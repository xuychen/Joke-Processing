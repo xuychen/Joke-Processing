{
 "cells": [
  {
   "cell_type": "code",
   "execution_count": 39,
   "metadata": {},
   "outputs": [],
   "source": [
    "import pandas as pd\n",
    "import numpy as np\n",
    "import scipy.stats as sps"
   ]
  },
  {
   "cell_type": "code",
   "execution_count": 57,
   "metadata": {},
   "outputs": [],
   "source": [
    "# additional function applied\n",
    "def mean_confidence_interval(data, confidence=0.95):\n",
    "    a = 1.0 * np.array(data)\n",
    "    n = len(a)\n",
    "    m, se = np.mean(a), sps.sem(a)\n",
    "    h = se * sps.t.ppf((1 + confidence) / 2., n-1)\n",
    "    return m, m-h, m+h"
   ]
  },
  {
   "cell_type": "code",
   "execution_count": 69,
   "metadata": {},
   "outputs": [],
   "source": [
    "data = pd.read_csv(\"cleaned.csv\")\n",
    "\n",
    "# drop unnecessary columns\n",
    "data.drop(data.columns[0], axis=1, inplace=True)\n",
    "data.drop(data.columns[-1], axis=1, inplace=True)\n",
    "\n",
    "n_rows, n_features = data.shape\n",
    "\n",
    "# basic\n",
    "basic = data.describe().drop(['count'])\n",
    "\n",
    "# range\n",
    "data_range = pd.DataFrame(basic.loc['max'] - basic.loc['min'], columns=['range']).transpose()\n",
    "description = basic.append(data_range)\n",
    "\n",
    "# interquartile range\n",
    "iqr = pd.DataFrame(basic.loc['75%'] - basic.loc['25%'], columns=['iqr']).transpose()\n",
    "description = description.append(iqr)\n",
    "\n",
    "# variance\n",
    "variance = pd.DataFrame(data.var(), columns=['variance']).transpose()\n",
    "description = description.append(variance)\n",
    "\n",
    "# skewness\n",
    "skewness = pd.DataFrame(data.skew(), columns=['skewness']).transpose()\n",
    "description = description.append(skewness)\n",
    "\n",
    "# kurtosis\n",
    "kurtosis = pd.DataFrame(data.kurtosis(), columns=['kurtosis']).transpose()\n",
    "description = description.append(kurtosis)\n",
    "\n",
    "# 95% confidence interval\n",
    "lower_confidence_interval, upper_confidence_interval = [], []\n",
    "\n",
    "for i in range(n_features):\n",
    "    column = data.iloc[:, i]\n",
    "    _, lower, upper = mean_confidence_interval(column)\n",
    "    lower_confidence_interval.append(lower)\n",
    "    upper_confidence_interval.append(upper)\n",
    "\n",
    "lower_confidence_interval = pd.DataFrame(lower_confidence_interval, columns=['lower ,95% confidence interval']).transpose()\n",
    "lower_confidence_interval.columns = data.columns\n",
    "\n",
    "upper_confidence_interval = pd.DataFrame(upper_confidence_interval, columns=['upper 95% confidence interval']).transpose()\n",
    "upper_confidence_interval.columns = data.columns\n",
    "\n",
    "description = description.append(lower_confidence_interval)\n",
    "description = description.append(upper_confidence_interval)\n",
    "\n",
    "# 5% trimming mean\n",
    "tmean = [sps.tmean(data.iloc[:, i]) for i in range(n_features)]\n",
    "tmean = pd.DataFrame(tmean, columns=['5% tmean']).transpose()\n",
    "tmean.columns = data.columns\n",
    "\n",
    "description = description.append(tmean)\n",
    "\n",
    "description.to_csv('data-description.csv')"
   ]
  },
  {
   "cell_type": "code",
   "execution_count": null,
   "metadata": {},
   "outputs": [],
   "source": []
  }
 ],
 "metadata": {
  "kernelspec": {
   "display_name": "Python 2",
   "language": "python",
   "name": "python2"
  },
  "language_info": {
   "codemirror_mode": {
    "name": "ipython",
    "version": 2
   },
   "file_extension": ".py",
   "mimetype": "text/x-python",
   "name": "python",
   "nbconvert_exporter": "python",
   "pygments_lexer": "ipython2",
   "version": "2.7.12"
  }
 },
 "nbformat": 4,
 "nbformat_minor": 2
}
